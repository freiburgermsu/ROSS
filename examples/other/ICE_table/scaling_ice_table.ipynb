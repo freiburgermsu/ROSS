{
 "cells": [
  {
   "cell_type": "code",
   "execution_count": 17,
   "metadata": {},
   "outputs": [
    {
     "name": "stdout",
     "output_type": "stream",
     "text": [
      "{'Ca': {'change': -0.0006491063068378433,\n",
      "        'final_moles': 0.335957721232,\n",
      "        'initial_moles': 0.33660682753883786},\n",
      " 'S': {'change': 0.07327891623898242,\n",
      "       'final_moles': 1.7969614040000002,\n",
      "       'initial_moles': 1.7236824877610177}}\n"
     ]
    }
   ],
   "source": [
    "from chempy.properties.water_density_tanaka_2001 import water_density\n",
    "from scipy.constants import kilo, milli\n",
    "from chemicals import periodic_table\n",
    "from pprint import pprint\n",
    "\n",
    "elemental_masses = {}\n",
    "for element in periodic_table:\n",
    "    elemental_masses[element.symbol] = element.MW\n",
    "    \n",
    "calcium_mass = elemental_masses['Ca']\n",
    "sulphate_mass = elemental_masses['S'] + 4*elemental_masses['O']\n",
    "        \n",
    "# concentrations from this experiment: https://github.com/freiburgermsu/ROSSpy/tree/main/examples/scaling/2021-10-27-ROSSpy-red_sea-transport-pitzer-scaling-all_distance-LinPerm\n",
    "initial_molar = {\n",
    "    'Ca': 774/(calcium_mass*kilo),\n",
    "    'S': 9500/(sulphate_mass*kilo)\n",
    "}\n",
    "\n",
    "solution_masses = {\n",
    "    'initial':17.378154,\n",
    "    'final':15.591856\n",
    "}\n",
    "\n",
    "final_molal = {\n",
    "    'Ca': 0.021547,\n",
    "    'S': 0.115250\n",
    "}\n",
    "\n",
    "solution_moles = {}\n",
    "for element in initial_moles:\n",
    "    solution_moles[element] = {}\n",
    "    solution_moles[element]['initial_moles'] = initial_molar[element] * (solution_masses['initial']/(water_density()*milli))\n",
    "for element in final_molal:\n",
    "    solution_moles[element]['final_moles'] = final_molal[element] * solution_masses['final']\n",
    "    \n",
    "for element in solution_moles:\n",
    "    solution_moles[element]['change'] = solution_moles[element]['final_moles'] - solution_moles[element]['initial_moles'] \n",
    "    \n",
    "pprint(solution_moles)"
   ]
  }
 ],
 "metadata": {
  "kernelspec": {
   "display_name": "Python 3",
   "language": "python",
   "name": "python3"
  },
  "language_info": {
   "codemirror_mode": {
    "name": "ipython",
    "version": 3
   },
   "file_extension": ".py",
   "mimetype": "text/x-python",
   "name": "python",
   "nbconvert_exporter": "python",
   "pygments_lexer": "ipython3",
   "version": "3.7.4"
  }
 },
 "nbformat": 4,
 "nbformat_minor": 2
}
