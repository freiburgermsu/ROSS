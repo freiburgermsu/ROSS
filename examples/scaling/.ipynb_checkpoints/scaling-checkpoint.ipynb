{
 "cells": [
  {
   "cell_type": "markdown",
   "metadata": {},
   "source": [
    "# Red Sea scaling through BW30-400"
   ]
  },
  {
   "cell_type": "markdown",
   "metadata": {},
   "source": [
    "## Evaluate scaling along the module at the final time"
   ]
  },
  {
   "cell_type": "code",
   "execution_count": 1,
   "metadata": {},
   "outputs": [
    {
     "name": "stdout",
     "output_type": "stream",
     "text": [
      "\n",
      "Estimated completion in 22.0 seconds by 2021-10-15 19:24:33.017987 local time.\n"
     ]
    },
    {
     "data": {
      "text/plain": [
       "<Figure size 1700x1000 with 1 Axes>"
      ]
     },
     "metadata": {},
     "output_type": "display_data"
    }
   ],
   "source": [
    "# run the ROSS model\n",
    "%run ../../rosspy/core.py\n",
    "ross = ROSSPkg(verbose = False)\n",
    "\n",
    "# initial parameters\n",
    "quantity_of_modules = 1\n",
    "phreeqc_path = 'C:\\\\Program Files\\\\USGS\\\\phreeqc-3.6.2-15100-x64'\n",
    "database_selection = 'pitzer'\n",
    "simulation_title = 'test'\n",
    "water_selection = 'red_sea'\n",
    "simulation_perspective = 'all_distance'\n",
    "selected_output_path = 'Red Sea_BW30-400_PE=1_1.1'\n",
    "simulation_time = 200\n",
    "\n",
    "# create the input file\n",
    "ross.define_general(phreeqc_path, database_selection, simulation_title)\n",
    "ross.transport(simulation_time, simulation_perspective, )\n",
    "ross.reaction(quantity_of_modules)\n",
    "ross.solutions(water_selection)\n",
    "ross.equilibrium_phases()\n",
    "ross.selected_output()\n",
    "ross.export(print_block = False)\n",
    "\n",
    "# execute and process the input file\n",
    "raw_data = ross.execute(print_output = False)\n",
    "scaling_data = ross.process_selected_output()"
   ]
  },
  {
   "cell_type": "markdown",
   "metadata": {},
   "source": [
    "## View the data"
   ]
  },
  {
   "cell_type": "code",
   "execution_count": 2,
   "metadata": {},
   "outputs": [
    {
     "data": {
      "text/html": [
       "<div>\n",
       "<style scoped>\n",
       "    .dataframe tbody tr th:only-of-type {\n",
       "        vertical-align: middle;\n",
       "    }\n",
       "\n",
       "    .dataframe tbody tr th {\n",
       "        vertical-align: top;\n",
       "    }\n",
       "\n",
       "    .dataframe thead th {\n",
       "        text-align: right;\n",
       "    }\n",
       "</style>\n",
       "<table border=\"1\" class=\"dataframe\">\n",
       "  <thead>\n",
       "    <tr style=\"text-align: right;\">\n",
       "      <th></th>\n",
       "      <th>Gypsum</th>\n",
       "    </tr>\n",
       "    <tr>\n",
       "      <th>Distance (m)</th>\n",
       "      <th></th>\n",
       "    </tr>\n",
       "  </thead>\n",
       "  <tbody>\n",
       "    <tr>\n",
       "      <th>0.127 m</th>\n",
       "      <td>0.00</td>\n",
       "    </tr>\n",
       "    <tr>\n",
       "      <th>0.212 m</th>\n",
       "      <td>0.00</td>\n",
       "    </tr>\n",
       "    <tr>\n",
       "      <th>0.296 m</th>\n",
       "      <td>0.00</td>\n",
       "    </tr>\n",
       "    <tr>\n",
       "      <th>0.381 m</th>\n",
       "      <td>0.00</td>\n",
       "    </tr>\n",
       "    <tr>\n",
       "      <th>0.466 m</th>\n",
       "      <td>0.439</td>\n",
       "    </tr>\n",
       "    <tr>\n",
       "      <th>0.550 m</th>\n",
       "      <td>8.21</td>\n",
       "    </tr>\n",
       "    <tr>\n",
       "      <th>0.635 m</th>\n",
       "      <td>7.98</td>\n",
       "    </tr>\n",
       "    <tr>\n",
       "      <th>0.720 m</th>\n",
       "      <td>7.71</td>\n",
       "    </tr>\n",
       "    <tr>\n",
       "      <th>0.804 m</th>\n",
       "      <td>7.45</td>\n",
       "    </tr>\n",
       "    <tr>\n",
       "      <th>0.889 m</th>\n",
       "      <td>7.19</td>\n",
       "    </tr>\n",
       "  </tbody>\n",
       "</table>\n",
       "</div>"
      ],
      "text/plain": [
       "             Gypsum\n",
       "Distance (m)       \n",
       "0.127 m        0.00\n",
       "0.212 m        0.00\n",
       "0.296 m        0.00\n",
       "0.381 m        0.00\n",
       "0.466 m       0.439\n",
       "0.550 m        8.21\n",
       "0.635 m        7.98\n",
       "0.720 m        7.71\n",
       "0.804 m        7.45\n",
       "0.889 m        7.19"
      ]
     },
     "metadata": {},
     "output_type": "display_data"
    }
   ],
   "source": [
    "display(scaling_data)"
   ]
  },
  {
   "cell_type": "markdown",
   "metadata": {},
   "source": [
    "## Evaluate the accumulation of module end scaling over time"
   ]
  },
  {
   "cell_type": "code",
   "execution_count": 3,
   "metadata": {},
   "outputs": [
    {
     "name": "stderr",
     "output_type": "stream",
     "text": [
      "ERROR:root:File `'../rosspy/core.py'` not found.\n"
     ]
    },
    {
     "name": "stdout",
     "output_type": "stream",
     "text": [
      "\n",
      "Estimated completion in 22.0 seconds by 2021-10-15 19:24:40.110929 local time.\n"
     ]
    },
    {
     "ename": "UnboundLocalError",
     "evalue": "local variable 'x_label' referenced before assignment",
     "output_type": "error",
     "traceback": [
      "\u001b[1;31m---------------------------------------------------------------------------\u001b[0m",
      "\u001b[1;31mUnboundLocalError\u001b[0m                         Traceback (most recent call last)",
      "\u001b[1;32m<ipython-input-3-c92a4b681a9a>\u001b[0m in \u001b[0;36m<module>\u001b[1;34m\u001b[0m\n\u001b[0;32m     24\u001b[0m \u001b[1;31m# execute and process the input file\u001b[0m\u001b[1;33m\u001b[0m\u001b[1;33m\u001b[0m\u001b[1;33m\u001b[0m\u001b[0m\n\u001b[0;32m     25\u001b[0m \u001b[0mraw_data\u001b[0m \u001b[1;33m=\u001b[0m \u001b[0mross\u001b[0m\u001b[1;33m.\u001b[0m\u001b[0mexecute\u001b[0m\u001b[1;33m(\u001b[0m\u001b[0mprint_output\u001b[0m \u001b[1;33m=\u001b[0m \u001b[1;32mFalse\u001b[0m\u001b[1;33m)\u001b[0m\u001b[1;33m\u001b[0m\u001b[1;33m\u001b[0m\u001b[0m\n\u001b[1;32m---> 26\u001b[1;33m \u001b[0mscaling_data\u001b[0m \u001b[1;33m=\u001b[0m \u001b[0mross\u001b[0m\u001b[1;33m.\u001b[0m\u001b[0mprocess_selected_output\u001b[0m\u001b[1;33m(\u001b[0m\u001b[1;33m)\u001b[0m\u001b[1;33m\u001b[0m\u001b[1;33m\u001b[0m\u001b[0m\n\u001b[0m",
      "\u001b[1;32m~\\Dropbox\\My PC (DESKTOP-M302P50)\\Documents\\UVic Civil Engineering\\PHREEQC\\ROSS\\rosspy\\core.py\u001b[0m in \u001b[0;36mprocess_selected_output\u001b[1;34m(self, selected_output_path, plot_title, title_font, label_font, plot_caption, legend_title, x_label_number, export_name, export_format, individual_plots)\u001b[0m\n\u001b[0;32m    734\u001b[0m             \u001b[0mdata\u001b[0m \u001b[1;33m=\u001b[0m \u001b[0mself\u001b[0m\u001b[1;33m.\u001b[0m\u001b[0mbrine_plot\u001b[0m\u001b[1;33m(\u001b[0m\u001b[0mpyplot\u001b[0m\u001b[1;33m,\u001b[0m \u001b[0mplot_title\u001b[0m\u001b[1;33m,\u001b[0m \u001b[0mtitle_font\u001b[0m\u001b[1;33m,\u001b[0m \u001b[0mlabel_font\u001b[0m\u001b[1;33m,\u001b[0m \u001b[0mplot_caption\u001b[0m\u001b[1;33m,\u001b[0m \u001b[0mexport_format\u001b[0m\u001b[1;33m,\u001b[0m \u001b[0mx_label_number\u001b[0m\u001b[1;33m)\u001b[0m\u001b[1;33m\u001b[0m\u001b[1;33m\u001b[0m\u001b[0m\n\u001b[0;32m    735\u001b[0m         \u001b[1;32melif\u001b[0m \u001b[0mself\u001b[0m\u001b[1;33m.\u001b[0m\u001b[0mparameters\u001b[0m\u001b[1;33m[\u001b[0m\u001b[1;34m'simulation'\u001b[0m\u001b[1;33m]\u001b[0m \u001b[1;33m==\u001b[0m \u001b[1;34m'scaling'\u001b[0m\u001b[1;33m:\u001b[0m\u001b[1;33m\u001b[0m\u001b[1;33m\u001b[0m\u001b[0m\n\u001b[1;32m--> 736\u001b[1;33m             \u001b[0mdata\u001b[0m \u001b[1;33m=\u001b[0m \u001b[0mself\u001b[0m\u001b[1;33m.\u001b[0m\u001b[0mscaling_plot\u001b[0m\u001b[1;33m(\u001b[0m\u001b[0mplot_title\u001b[0m\u001b[1;33m,\u001b[0m \u001b[0mtitle_font\u001b[0m\u001b[1;33m,\u001b[0m \u001b[0mlabel_font\u001b[0m\u001b[1;33m,\u001b[0m \u001b[0mplot_caption\u001b[0m\u001b[1;33m,\u001b[0m \u001b[0mindividual_plots\u001b[0m\u001b[1;33m,\u001b[0m \u001b[0mlegend_title\u001b[0m\u001b[1;33m,\u001b[0m \u001b[0mx_label_number\u001b[0m\u001b[1;33m,\u001b[0m \u001b[0mexport_name\u001b[0m\u001b[1;33m,\u001b[0m \u001b[0mexport_format\u001b[0m\u001b[1;33m)\u001b[0m\u001b[1;33m\u001b[0m\u001b[1;33m\u001b[0m\u001b[0m\n\u001b[0m\u001b[0;32m    737\u001b[0m         \u001b[1;32melse\u001b[0m\u001b[1;33m:\u001b[0m\u001b[1;33m\u001b[0m\u001b[1;33m\u001b[0m\u001b[0m\n\u001b[0;32m    738\u001b[0m             \u001b[0mprint\u001b[0m\u001b[1;33m(\u001b[0m\u001b[1;34m'--> ERROR: The < simulation_perspective > parameter is unpredicted.'\u001b[0m\u001b[1;33m)\u001b[0m\u001b[1;33m\u001b[0m\u001b[1;33m\u001b[0m\u001b[0m\n",
      "\u001b[1;32m~\\Dropbox\\My PC (DESKTOP-M302P50)\\Documents\\UVic Civil Engineering\\PHREEQC\\ROSS\\rosspy\\core.py\u001b[0m in \u001b[0;36mscaling_plot\u001b[1;34m(self, plot_title, title_font, label_font, plot_caption, table_title, individual_plots, legend_title, x_label_number, export_name, export_format)\u001b[0m\n\u001b[0;32m   1012\u001b[0m                 \u001b[0mself\u001b[0m\u001b[1;33m.\u001b[0m\u001b[0mparameters\u001b[0m\u001b[1;33m[\u001b[0m\u001b[1;34m'individual_plots'\u001b[0m\u001b[1;33m]\u001b[0m \u001b[1;33m=\u001b[0m \u001b[1;32mTrue\u001b[0m\u001b[1;33m\u001b[0m\u001b[1;33m\u001b[0m\u001b[0m\n\u001b[0;32m   1013\u001b[0m             \u001b[1;32mif\u001b[0m \u001b[0mself\u001b[0m\u001b[1;33m.\u001b[0m\u001b[0mparameters\u001b[0m\u001b[1;33m[\u001b[0m\u001b[1;34m'individual_plots'\u001b[0m\u001b[1;33m]\u001b[0m\u001b[1;33m:\u001b[0m\u001b[1;33m\u001b[0m\u001b[1;33m\u001b[0m\u001b[0m\n\u001b[1;32m-> 1014\u001b[1;33m                 \u001b[0mscaling_data\u001b[0m \u001b[1;33m=\u001b[0m \u001b[0mall_time_plotting\u001b[0m\u001b[1;33m(\u001b[0m\u001b[0mplot_title\u001b[0m\u001b[1;33m,\u001b[0m \u001b[0mx_label\u001b[0m\u001b[1;33m)\u001b[0m\u001b[1;33m\u001b[0m\u001b[1;33m\u001b[0m\u001b[0m\n\u001b[0m\u001b[0;32m   1015\u001b[0m             \u001b[1;32melif\u001b[0m \u001b[1;32mnot\u001b[0m \u001b[0mself\u001b[0m\u001b[1;33m.\u001b[0m\u001b[0mparameters\u001b[0m\u001b[1;33m[\u001b[0m\u001b[1;34m'individual_plots'\u001b[0m\u001b[1;33m]\u001b[0m\u001b[1;33m:\u001b[0m\u001b[1;33m\u001b[0m\u001b[1;33m\u001b[0m\u001b[0m\n\u001b[0;32m   1016\u001b[0m                 \u001b[0mlegend\u001b[0m\u001b[1;33m,\u001b[0m \u001b[0mplot_title\u001b[0m\u001b[1;33m,\u001b[0m \u001b[0mscaling_data\u001b[0m \u001b[1;33m=\u001b[0m \u001b[0mall_distance_plotting\u001b[0m\u001b[1;33m(\u001b[0m\u001b[0mplot_title\u001b[0m\u001b[1;33m)\u001b[0m\u001b[1;33m\u001b[0m\u001b[1;33m\u001b[0m\u001b[0m\n",
      "\u001b[1;31mUnboundLocalError\u001b[0m: local variable 'x_label' referenced before assignment"
     ]
    }
   ],
   "source": [
    "# run the ROSS model\n",
    "%run ../../rosspy/core.py\n",
    "ross = ROSSPkg(verbose = False)\n",
    "\n",
    "# initial parameters\n",
    "quantity_of_modules = 1\n",
    "phreeqc_path = 'C:\\\\Program Files\\\\USGS\\\\phreeqc-3.6.2-15100-x64'\n",
    "database_selection = 'pitzer'\n",
    "simulation_title = 'test'\n",
    "water_selection = 'red_sea'\n",
    "simulation_perspective = 'all_time'\n",
    "selected_output_path = 'Red Sea_BW30-400_PE=1_1.1'\n",
    "simulation_time = 200\n",
    "\n",
    "# create the input file\n",
    "ross.define_general(phreeqc_path, database_selection, simulation_title)\n",
    "ross.transport(simulation_time, simulation_perspective, )\n",
    "ross.reaction(quantity_of_modules)\n",
    "ross.solutions(water_selection)\n",
    "ross.equilibrium_phases()\n",
    "ross.selected_output()\n",
    "ross.export(print_block = False)\n",
    "\n",
    "# execute and process the input file\n",
    "raw_data = ross.execute(print_output = False)\n",
    "scaling_data = ross.process_selected_output()"
   ]
  },
  {
   "cell_type": "markdown",
   "metadata": {},
   "source": [
    "## View the data"
   ]
  },
  {
   "cell_type": "code",
   "execution_count": null,
   "metadata": {},
   "outputs": [],
   "source": [
    "display(scaling_data)"
   ]
  },
  {
   "cell_type": "markdown",
   "metadata": {},
   "source": [
    "## Evaluate scaling over a custom, high permeate, module at the final time"
   ]
  },
  {
   "cell_type": "code",
   "execution_count": null,
   "metadata": {},
   "outputs": [],
   "source": [
    "# run the ROSS model\n",
    "%run ../../rosspy/core.py\n",
    "ross = ROSSPkg(verbose = False)\n",
    "\n",
    "# initial parameters\n",
    "phreeqc_path = 'C:\\\\Program Files\\\\USGS\\\\phreeqc-3.6.2-15100-x64'\n",
    "database_selection = 'pitzer'\n",
    "simulation_title = 'test'\n",
    "water_selection = 'red_sea'\n",
    "selected_output_path = 'Red Sea_BW30-400_PE=1_1.1'\n",
    "simulation_time = 200\n",
    "simulation_perspective = 'all_distance'\n",
    "\n",
    "# custom module parameterization\n",
    "module_characteristics = {\n",
    "    'permeate_flow_m3_per_day': 300\n",
    "}\n",
    "\n",
    "# create the input file\n",
    "ross.define_general(phreeqc_path, database_selection, simulation_title)\n",
    "ross.transport(simulation_time, simulation_perspective, module_characteristics)\n",
    "ross.reaction()\n",
    "ross.solutions(water_selection)\n",
    "ross.equilibrium_phases()\n",
    "ross.selected_output()\n",
    "ross.export(print_block = False)\n",
    "\n",
    "# execute and process the input file\n",
    "raw_data = ross.execute(print_output = False)\n",
    "scaling_data = ross.process_selected_output()"
   ]
  },
  {
   "cell_type": "markdown",
   "metadata": {},
   "source": [
    "## View the data"
   ]
  },
  {
   "cell_type": "code",
   "execution_count": null,
   "metadata": {
    "scrolled": true
   },
   "outputs": [],
   "source": [
    "display(scaling_data)"
   ]
  },
  {
   "cell_type": "markdown",
   "metadata": {},
   "source": [
    "## Evaluate the accumulation of scaling at the end of the high permeate module over time"
   ]
  },
  {
   "cell_type": "code",
   "execution_count": null,
   "metadata": {
    "scrolled": true
   },
   "outputs": [],
   "source": [
    "# run the ROSS model\n",
    "%run ../../rosspy/core.py\n",
    "ross = ROSSPkg(verbose = False)\n",
    "\n",
    "# initial parameters\n",
    "phreeqc_path = 'C:\\\\Program Files\\\\USGS\\\\phreeqc-3.6.2-15100-x64'\n",
    "database_selection = 'pitzer'\n",
    "simulation_title = 'test'\n",
    "water_selection = 'red_sea'\n",
    "selected_output_path = 'Red Sea_BW30-400_PE=1_1.1'\n",
    "simulation_time = 200\n",
    "simulation_perspective = 'all_time'\n",
    "\n",
    "# custom module parameterization\n",
    "module_characteristics = {\n",
    "    'permeate_flow_m3_per_day': 300\n",
    "}\n",
    "\n",
    "# create the input file\n",
    "ross.define_general(phreeqc_path, database_selection, simulation_title)\n",
    "ross.transport(simulation_time, simulation_perspective, module_characteristics)\n",
    "ross.reaction()\n",
    "ross.solutions(water_selection)\n",
    "ross.equilibrium_phases()\n",
    "ross.selected_output()\n",
    "ross.export(print_block = False)\n",
    "\n",
    "# execute and process the input file\n",
    "raw_data = ross.execute(print_output = False)\n",
    "scaling_data = ross.process_selected_output()"
   ]
  },
  {
   "cell_type": "markdown",
   "metadata": {},
   "source": [
    "# view the data"
   ]
  },
  {
   "cell_type": "code",
   "execution_count": null,
   "metadata": {},
   "outputs": [],
   "source": [
    "display(scaling_data)"
   ]
  }
 ],
 "metadata": {
  "kernelspec": {
   "display_name": "Python 3",
   "language": "python",
   "name": "python3"
  },
  "language_info": {
   "codemirror_mode": {
    "name": "ipython",
    "version": 3
   },
   "file_extension": ".py",
   "mimetype": "text/x-python",
   "name": "python",
   "nbconvert_exporter": "python",
   "pygments_lexer": "ipython3",
   "version": "3.7.4"
  }
 },
 "nbformat": 4,
 "nbformat_minor": 2
}
