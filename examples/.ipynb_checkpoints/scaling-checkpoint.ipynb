{
 "cells": [
  {
   "cell_type": "markdown",
   "metadata": {},
   "source": [
    "# Scaling "
   ]
  },
  {
   "cell_type": "code",
   "execution_count": 51,
   "metadata": {},
   "outputs": [
    {
     "name": "stdout",
     "output_type": "stream",
     "text": [
      "C:\\Users\\Andrew Freiburger\\Dropbox\\My PC (DESKTOP-M302P50)\\Documents\\UVic Civil Engineering\\PHREEQC\\ROSS\\rosspy\\..\\databases\\pitzer.json\n",
      "all_distance\n",
      "all_distance\n",
      "\n",
      "Estimated completion in 29 seconds by 2021-10-14 13:56:21.662049 local time.\n",
      "No scaling occurred.\n"
     ]
    }
   ],
   "source": [
    "# run the ROSS model\n",
    "%run ../rosspy/core.py\n",
    "ross = ROSSPkg(verbose = False)\n",
    "\n",
    "# initial parameters\n",
    "quantity_of_modules = 1\n",
    "phreeqc_path = 'C:\\\\Program Files\\\\USGS\\\\phreeqc-3.6.2-15100-x64'\n",
    "database_selection = 'pitzer'\n",
    "simulation_title = 'test'\n",
    "water_selection = 'red_sea'\n",
    "simulation_perspective = 'all_distance'\n",
    "selected_output_path = 'Red Sea_BW30-400_PE=1_1.1'\n",
    "simulation_time = 200\n",
    "\n",
    "# create the input file\n",
    "ross.define_general(phreeqc_path, database_selection, simulation_title)\n",
    "ross.transport(simulation_time, simulation_perspective, )\n",
    "ross.reaction(quantity_of_modules)\n",
    "ross.solutions(water_selection)\n",
    "ross.equilibrium_phases()\n",
    "ross.selected_output()\n",
    "ross.export(print_block = False)\n",
    "\n",
    "# execute and process the input file\n",
    "raw_data = ross.execute(print_output = False)\n",
    "scaling_data = ross.process_selected_output()"
   ]
  },
  {
   "cell_type": "code",
   "execution_count": null,
   "metadata": {},
   "outputs": [],
   "source": []
  },
  {
   "cell_type": "markdown",
   "metadata": {},
   "source": [
    "# High permeate module"
   ]
  },
  {
   "cell_type": "code",
   "execution_count": 50,
   "metadata": {},
   "outputs": [
    {
     "name": "stdout",
     "output_type": "stream",
     "text": [
      "C:\\Users\\Andrew Freiburger\\Dropbox\\My PC (DESKTOP-M302P50)\\Documents\\UVic Civil Engineering\\PHREEQC\\ROSS\\rosspy\\..\\databases\\pitzer.json\n",
      "{'permeate_flow_m3_per_day': 300}\n",
      "{'permeate_flow_m3_per_day': 300}\n"
     ]
    },
    {
     "ename": "UnboundLocalError",
     "evalue": "local variable 'punch_cells_line' referenced before assignment",
     "output_type": "error",
     "traceback": [
      "\u001b[1;31m---------------------------------------------------------------------------\u001b[0m",
      "\u001b[1;31mUnboundLocalError\u001b[0m                         Traceback (most recent call last)",
      "\u001b[1;32m<ipython-input-50-26cff2c8a584>\u001b[0m in \u001b[0;36m<module>\u001b[1;34m\u001b[0m\n\u001b[0;32m     19\u001b[0m \u001b[1;31m# create the input file\u001b[0m\u001b[1;33m\u001b[0m\u001b[1;33m\u001b[0m\u001b[1;33m\u001b[0m\u001b[0m\n\u001b[0;32m     20\u001b[0m \u001b[0mross\u001b[0m\u001b[1;33m.\u001b[0m\u001b[0mdefine_general\u001b[0m\u001b[1;33m(\u001b[0m\u001b[0mphreeqc_path\u001b[0m\u001b[1;33m,\u001b[0m \u001b[0mdatabase_selection\u001b[0m\u001b[1;33m,\u001b[0m \u001b[0msimulation_title\u001b[0m\u001b[1;33m)\u001b[0m\u001b[1;33m\u001b[0m\u001b[1;33m\u001b[0m\u001b[0m\n\u001b[1;32m---> 21\u001b[1;33m \u001b[0mross\u001b[0m\u001b[1;33m.\u001b[0m\u001b[0mtransport\u001b[0m\u001b[1;33m(\u001b[0m\u001b[0msimulation_time\u001b[0m\u001b[1;33m,\u001b[0m \u001b[0mmodule_characteristics\u001b[0m\u001b[1;33m)\u001b[0m\u001b[1;33m\u001b[0m\u001b[1;33m\u001b[0m\u001b[0m\n\u001b[0m\u001b[0;32m     22\u001b[0m \u001b[0mross\u001b[0m\u001b[1;33m.\u001b[0m\u001b[0mreaction\u001b[0m\u001b[1;33m(\u001b[0m\u001b[1;33m)\u001b[0m\u001b[1;33m\u001b[0m\u001b[1;33m\u001b[0m\u001b[0m\n\u001b[0;32m     23\u001b[0m \u001b[0mross\u001b[0m\u001b[1;33m.\u001b[0m\u001b[0msolutions\u001b[0m\u001b[1;33m(\u001b[0m\u001b[0mwater_selection\u001b[0m\u001b[1;33m)\u001b[0m\u001b[1;33m\u001b[0m\u001b[1;33m\u001b[0m\u001b[0m\n",
      "\u001b[1;32m~\\Dropbox\\My PC (DESKTOP-M302P50)\\Documents\\UVic Civil Engineering\\PHREEQC\\ROSS\\rosspy\\core.py\u001b[0m in \u001b[0;36mtransport\u001b[1;34m(self, simulation_time, simulation_perspective, module_characteristics, cells_per_module, domain, parameterized_timestep, kinematic_flow_velocity)\u001b[0m\n\u001b[0;32m    151\u001b[0m         \u001b[1;31m# create the transport block\u001b[0m\u001b[1;33m\u001b[0m\u001b[1;33m\u001b[0m\u001b[1;33m\u001b[0m\u001b[0m\n\u001b[0;32m    152\u001b[0m         \u001b[0mself\u001b[0m\u001b[1;33m.\u001b[0m\u001b[0mresults\u001b[0m\u001b[1;33m[\u001b[0m\u001b[1;34m'transport_block'\u001b[0m\u001b[1;33m]\u001b[0m \u001b[1;33m=\u001b[0m \u001b[1;33m[\u001b[0m\u001b[1;33m]\u001b[0m\u001b[1;33m\u001b[0m\u001b[1;33m\u001b[0m\u001b[0m\n\u001b[1;32m--> 153\u001b[1;33m         \u001b[0mself\u001b[0m\u001b[1;33m.\u001b[0m\u001b[0mresults\u001b[0m\u001b[1;33m[\u001b[0m\u001b[1;34m'transport_block'\u001b[0m\u001b[1;33m]\u001b[0m\u001b[1;33m.\u001b[0m\u001b[0mextend\u001b[0m\u001b[1;33m(\u001b[0m\u001b[1;33m(\u001b[0m\u001b[0mtransport_line\u001b[0m\u001b[1;33m,\u001b[0m \u001b[0mcells_line\u001b[0m\u001b[1;33m,\u001b[0m \u001b[0mshifts_line\u001b[0m\u001b[1;33m,\u001b[0m \u001b[0mlengths_line\u001b[0m\u001b[1;33m,\u001b[0m \u001b[0mtimestep_line\u001b[0m\u001b[1;33m,\u001b[0m \u001b[0minitial_time_line\u001b[0m\u001b[1;33m,\u001b[0m \u001b[0mboundary_conditions_line\u001b[0m\u001b[1;33m,\u001b[0m \u001b[0mdomain_line\u001b[0m\u001b[1;33m,\u001b[0m \u001b[0mpunch_cells_line\u001b[0m\u001b[1;33m,\u001b[0m \u001b[0mpunch_frequency_line\u001b[0m\u001b[1;33m)\u001b[0m\u001b[1;33m)\u001b[0m\u001b[1;33m\u001b[0m\u001b[1;33m\u001b[0m\u001b[0m\n\u001b[0m\u001b[0;32m    154\u001b[0m \u001b[1;33m\u001b[0m\u001b[0m\n\u001b[0;32m    155\u001b[0m         \u001b[1;31m# print simulation parameters\u001b[0m\u001b[1;33m\u001b[0m\u001b[1;33m\u001b[0m\u001b[1;33m\u001b[0m\u001b[0m\n",
      "\u001b[1;31mUnboundLocalError\u001b[0m: local variable 'punch_cells_line' referenced before assignment"
     ]
    }
   ],
   "source": [
    "# run the ROSS model\n",
    "%run ../rosspy/core.py\n",
    "ross = ROSSPkg(verbose = False)\n",
    "\n",
    "# initial parameters\n",
    "phreeqc_path = 'C:\\\\Program Files\\\\USGS\\\\phreeqc-3.6.2-15100-x64'\n",
    "database_selection = 'pitzer'\n",
    "simulation_title = 'test'\n",
    "water_selection = 'red_sea'\n",
    "selected_output_path = 'Red Sea_BW30-400_PE=1_1.1'\n",
    "simulation_time = 200\n",
    "simulation_perspective = 'all_time'\n",
    "\n",
    "# custom module parameterization\n",
    "module_characteristics = {\n",
    "    'permeate_flow_m3_per_day': 300\n",
    "}\n",
    "\n",
    "# create the input file\n",
    "ross.define_general(phreeqc_path, database_selection, simulation_title)\n",
    "ross.transport(simulation_time, simulation_perspective, module_characteristics)\n",
    "ross.reaction()\n",
    "ross.solutions(water_selection)\n",
    "ross.equilibrium_phases()\n",
    "ross.selected_output()\n",
    "ross.export(print_block = True)\n",
    "\n",
    "# execute the input file\n",
    "ross.execute()\n",
    "\n",
    "# process the simulation results\n",
    "scaling_data = ross.process_selected_output(selected_output_path = selected_output_path)"
   ]
  },
  {
   "cell_type": "markdown",
   "metadata": {},
   "source": [
    "# view the data"
   ]
  },
  {
   "cell_type": "code",
   "execution_count": 39,
   "metadata": {},
   "outputs": [
    {
     "data": {
      "text/html": [
       "<div>\n",
       "<style scoped>\n",
       "    .dataframe tbody tr th:only-of-type {\n",
       "        vertical-align: middle;\n",
       "    }\n",
       "\n",
       "    .dataframe tbody tr th {\n",
       "        vertical-align: top;\n",
       "    }\n",
       "\n",
       "    .dataframe thead th {\n",
       "        text-align: right;\n",
       "    }\n",
       "</style>\n",
       "<table border=\"1\" class=\"dataframe\">\n",
       "  <thead>\n",
       "    <tr style=\"text-align: right;\">\n",
       "      <th></th>\n",
       "      <th>0.127 m</th>\n",
       "      <th>0.212 m</th>\n",
       "      <th>0.296 m</th>\n",
       "      <th>0.381 m</th>\n",
       "      <th>0.466 m</th>\n",
       "      <th>0.550 m</th>\n",
       "      <th>0.635 m</th>\n",
       "      <th>0.720 m</th>\n",
       "      <th>0.804 m</th>\n",
       "      <th>0.889 m</th>\n",
       "    </tr>\n",
       "    <tr>\n",
       "      <th>scale (g/m^2)</th>\n",
       "      <th></th>\n",
       "      <th></th>\n",
       "      <th></th>\n",
       "      <th></th>\n",
       "      <th></th>\n",
       "      <th></th>\n",
       "      <th></th>\n",
       "      <th></th>\n",
       "      <th></th>\n",
       "      <th></th>\n",
       "    </tr>\n",
       "  </thead>\n",
       "  <tbody>\n",
       "    <tr>\n",
       "      <th>Barite</th>\n",
       "      <td>0.0</td>\n",
       "      <td>0.00</td>\n",
       "      <td>0.00</td>\n",
       "      <td>0.00</td>\n",
       "      <td>0.00</td>\n",
       "      <td>3.71e-4</td>\n",
       "      <td>6.66e-4</td>\n",
       "      <td>6.58e-4</td>\n",
       "      <td>6.39e-4</td>\n",
       "      <td>5.96e-4</td>\n",
       "    </tr>\n",
       "    <tr>\n",
       "      <th>Goergeyite</th>\n",
       "      <td>0.0</td>\n",
       "      <td>0.00</td>\n",
       "      <td>6.33</td>\n",
       "      <td>75.1</td>\n",
       "      <td>74.4</td>\n",
       "      <td>73.5</td>\n",
       "      <td>72.6</td>\n",
       "      <td>71.8</td>\n",
       "      <td>70.6</td>\n",
       "      <td>68.2</td>\n",
       "    </tr>\n",
       "    <tr>\n",
       "      <th>Celestite</th>\n",
       "      <td>0.0</td>\n",
       "      <td>0.00</td>\n",
       "      <td>0.00</td>\n",
       "      <td>0.00</td>\n",
       "      <td>0.00</td>\n",
       "      <td>0.466</td>\n",
       "      <td>0.659</td>\n",
       "      <td>0.661</td>\n",
       "      <td>0.660</td>\n",
       "      <td>0.647</td>\n",
       "    </tr>\n",
       "    <tr>\n",
       "      <th>Gypsum</th>\n",
       "      <td>74.0</td>\n",
       "      <td>72.8</td>\n",
       "      <td>65.3</td>\n",
       "      <td>0.00</td>\n",
       "      <td>0.00</td>\n",
       "      <td>0.00</td>\n",
       "      <td>0.00</td>\n",
       "      <td>0.00</td>\n",
       "      <td>0.00</td>\n",
       "      <td>0.00</td>\n",
       "    </tr>\n",
       "  </tbody>\n",
       "</table>\n",
       "</div>"
      ],
      "text/plain": [
       "              0.127 m 0.212 m 0.296 m 0.381 m 0.466 m  0.550 m  0.635 m  \\\n",
       "scale (g/m^2)                                                             \n",
       "Barite            0.0    0.00    0.00    0.00    0.00  3.71e-4  6.66e-4   \n",
       "Goergeyite        0.0    0.00    6.33    75.1    74.4     73.5     72.6   \n",
       "Celestite         0.0    0.00    0.00    0.00    0.00    0.466    0.659   \n",
       "Gypsum           74.0    72.8    65.3    0.00    0.00     0.00     0.00   \n",
       "\n",
       "               0.720 m  0.804 m  0.889 m  \n",
       "scale (g/m^2)                             \n",
       "Barite         6.58e-4  6.39e-4  5.96e-4  \n",
       "Goergeyite        71.8     70.6     68.2  \n",
       "Celestite        0.661    0.660    0.647  \n",
       "Gypsum            0.00     0.00     0.00  "
      ]
     },
     "metadata": {},
     "output_type": "display_data"
    }
   ],
   "source": [
    "display(scaling_data)"
   ]
  },
  {
   "cell_type": "code",
   "execution_count": null,
   "metadata": {},
   "outputs": [],
   "source": []
  },
  {
   "cell_type": "code",
   "execution_count": null,
   "metadata": {},
   "outputs": [],
   "source": []
  },
  {
   "cell_type": "code",
   "execution_count": null,
   "metadata": {},
   "outputs": [],
   "source": []
  },
  {
   "cell_type": "code",
   "execution_count": null,
   "metadata": {},
   "outputs": [],
   "source": []
  },
  {
   "cell_type": "code",
   "execution_count": null,
   "metadata": {},
   "outputs": [],
   "source": [
    "print(len(str(8.426354831443)))"
   ]
  }
 ],
 "metadata": {
  "kernelspec": {
   "display_name": "Python 3",
   "language": "python",
   "name": "python3"
  },
  "language_info": {
   "codemirror_mode": {
    "name": "ipython",
    "version": 3
   },
   "file_extension": ".py",
   "mimetype": "text/x-python",
   "name": "python",
   "nbconvert_exporter": "python",
   "pygments_lexer": "ipython3",
   "version": "3.7.4"
  }
 },
 "nbformat": 4,
 "nbformat_minor": 2
}
