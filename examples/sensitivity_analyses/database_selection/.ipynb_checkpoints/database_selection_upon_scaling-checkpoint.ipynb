{
 "cells": [
  {
   "cell_type": "markdown",
   "metadata": {},
   "source": [
    "# Scaling with all of the databases"
   ]
  },
  {
   "cell_type": "code",
   "execution_count": 3,
   "metadata": {
    "scrolled": false
   },
   "outputs": [
    {
     "name": "stdout",
     "output_type": "stream",
     "text": [
      "============================== \n",
      "\n",
      "Amm database \n",
      " =============\n",
      "\n",
      "--> ERROR: The Ni element is not accepted by the Amm database\n",
      "\n",
      "--> ERROR: The Co element is not accepted by the Amm database\n",
      "\n",
      "\n",
      "\n",
      "\n",
      "Estimated completion in 3.80E1 seconds by 2021-12-29 23:24:12.184401 local time.\n"
     ]
    },
    {
     "name": "stderr",
     "output_type": "stream",
     "text": [
      "C:\\Users\\Andrew Freiburger\\AppData\\Roaming\\Python\\Python37\\site-packages\\sigfig\\sigfig.py:572: UserWarning: warning: 3 significant figures requested from number with only 2 significant figures\n",
      "  warn(\"warning: %d significant figures requested from number with only %d significant figures\" % (given['sigfigs'], len(num.map)))\n"
     ]
    },
    {
     "ename": "NameError",
     "evalue": "name 'database_selection' is not defined",
     "output_type": "error",
     "traceback": [
      "\u001b[1;31m---------------------------------------------------------------------------\u001b[0m",
      "\u001b[1;31mcom_error\u001b[0m                                 Traceback (most recent call last)",
      "\u001b[1;32m<ipython-input-3-fb9e070332c3>\u001b[0m in \u001b[0;36m<module>\u001b[1;34m\u001b[0m\n\u001b[0;32m     31\u001b[0m     \u001b[1;32mtry\u001b[0m\u001b[1;33m:\u001b[0m\u001b[1;33m\u001b[0m\u001b[1;33m\u001b[0m\u001b[0m\n\u001b[1;32m---> 32\u001b[1;33m         \u001b[0mraw_data\u001b[0m \u001b[1;33m=\u001b[0m \u001b[0mross\u001b[0m\u001b[1;33m.\u001b[0m\u001b[0mexecute\u001b[0m\u001b[1;33m(\u001b[0m\u001b[1;33m)\u001b[0m\u001b[1;33m\u001b[0m\u001b[1;33m\u001b[0m\u001b[0m\n\u001b[0m\u001b[0;32m     33\u001b[0m         \u001b[0mscaling_data\u001b[0m \u001b[1;33m=\u001b[0m \u001b[0mross\u001b[0m\u001b[1;33m.\u001b[0m\u001b[0mprocess_selected_output\u001b[0m\u001b[1;33m(\u001b[0m\u001b[1;33m)\u001b[0m\u001b[1;33m\u001b[0m\u001b[1;33m\u001b[0m\u001b[0m\n",
      "\u001b[1;32m~\\Dropbox\\My PC (DESKTOP-M302P50)\\Documents\\UVic Civil Engineering\\PHREEQC\\ROSS\\rosspy\\core.py\u001b[0m in \u001b[0;36mexecute\u001b[1;34m(self, simulated_to_real_time)\u001b[0m\n\u001b[0;32m    823\u001b[0m         \u001b[1;31m# execute the simulation\u001b[0m\u001b[1;33m\u001b[0m\u001b[1;33m\u001b[0m\u001b[1;33m\u001b[0m\u001b[0m\n\u001b[1;32m--> 824\u001b[1;33m         \u001b[0mmain\u001b[0m\u001b[1;33m(\u001b[0m\u001b[0mself\u001b[0m\u001b[1;33m.\u001b[0m\u001b[0minput_file\u001b[0m\u001b[1;33m)\u001b[0m\u001b[1;33m\u001b[0m\u001b[1;33m\u001b[0m\u001b[0m\n\u001b[0m\u001b[0;32m    825\u001b[0m         \u001b[1;32mif\u001b[0m \u001b[0mself\u001b[0m\u001b[1;33m.\u001b[0m\u001b[0mverbose\u001b[0m\u001b[1;33m:\u001b[0m\u001b[1;33m\u001b[0m\u001b[1;33m\u001b[0m\u001b[0m\n",
      "\u001b[1;32m~\\Dropbox\\My PC (DESKTOP-M302P50)\\Documents\\UVic Civil Engineering\\PHREEQC\\ROSS\\rosspy\\core.py\u001b[0m in \u001b[0;36mmain\u001b[1;34m(input_file)\u001b[0m\n\u001b[0;32m    799\u001b[0m \u001b[1;33m\u001b[0m\u001b[0m\n\u001b[1;32m--> 800\u001b[1;33m             \u001b[0mphreeqc\u001b[0m\u001b[1;33m,\u001b[0m \u001b[0mconc\u001b[0m\u001b[1;33m,\u001b[0m \u001b[0mrun_time\u001b[0m \u001b[1;33m=\u001b[0m \u001b[0mmeasure_time\u001b[0m\u001b[1;33m(\u001b[0m\u001b[0mrun\u001b[0m\u001b[1;33m,\u001b[0m \u001b[0minput_file\u001b[0m\u001b[1;33m)\u001b[0m\u001b[1;33m\u001b[0m\u001b[1;33m\u001b[0m\u001b[0m\n\u001b[0m\u001b[0;32m    801\u001b[0m \u001b[1;33m\u001b[0m\u001b[0m\n",
      "\u001b[1;32m~\\Dropbox\\My PC (DESKTOP-M302P50)\\Documents\\UVic Civil Engineering\\PHREEQC\\ROSS\\rosspy\\core.py\u001b[0m in \u001b[0;36mmeasure_time\u001b[1;34m(func, *args, **kwargs)\u001b[0m\n\u001b[0;32m    796\u001b[0m                 \u001b[0mstart\u001b[0m \u001b[1;33m=\u001b[0m \u001b[0mtimeit\u001b[0m\u001b[1;33m.\u001b[0m\u001b[0mdefault_timer\u001b[0m\u001b[1;33m(\u001b[0m\u001b[1;33m)\u001b[0m\u001b[1;33m\u001b[0m\u001b[1;33m\u001b[0m\u001b[0m\n\u001b[1;32m--> 797\u001b[1;33m                 \u001b[0mphreeqc\u001b[0m\u001b[1;33m,\u001b[0m \u001b[0mconc\u001b[0m \u001b[1;33m=\u001b[0m \u001b[0mfunc\u001b[0m\u001b[1;33m(\u001b[0m\u001b[1;33m*\u001b[0m\u001b[0margs\u001b[0m\u001b[1;33m,\u001b[0m \u001b[1;33m**\u001b[0m\u001b[0mkwargs\u001b[0m\u001b[1;33m)\u001b[0m\u001b[1;33m\u001b[0m\u001b[1;33m\u001b[0m\u001b[0m\n\u001b[0m\u001b[0;32m    798\u001b[0m                 \u001b[1;32mreturn\u001b[0m \u001b[0mphreeqc\u001b[0m\u001b[1;33m,\u001b[0m \u001b[0mconc\u001b[0m\u001b[1;33m,\u001b[0m \u001b[0mtimeit\u001b[0m\u001b[1;33m.\u001b[0m\u001b[0mdefault_timer\u001b[0m\u001b[1;33m(\u001b[0m\u001b[1;33m)\u001b[0m \u001b[1;33m-\u001b[0m \u001b[0mstart\u001b[0m\u001b[1;33m\u001b[0m\u001b[1;33m\u001b[0m\u001b[0m\n",
      "\u001b[1;32m~\\Dropbox\\My PC (DESKTOP-M302P50)\\Documents\\UVic Civil Engineering\\PHREEQC\\ROSS\\rosspy\\core.py\u001b[0m in \u001b[0;36mrun\u001b[1;34m(input_file, first)\u001b[0m\n\u001b[0;32m    778\u001b[0m             \u001b[0mphreeqc\u001b[0m\u001b[1;33m.\u001b[0m\u001b[0mload_database\u001b[0m\u001b[1;33m(\u001b[0m\u001b[0mself\u001b[0m\u001b[1;33m.\u001b[0m\u001b[0mparameters\u001b[0m\u001b[1;33m[\u001b[0m\u001b[1;34m'database_path'\u001b[0m\u001b[1;33m]\u001b[0m\u001b[1;33m)\u001b[0m\u001b[1;33m\u001b[0m\u001b[1;33m\u001b[0m\u001b[0m\n\u001b[1;32m--> 779\u001b[1;33m             \u001b[0mphreeqc\u001b[0m\u001b[1;33m.\u001b[0m\u001b[0mrun_string\u001b[0m\u001b[1;33m(\u001b[0m\u001b[0minput_file\u001b[0m\u001b[1;33m)\u001b[0m\u001b[1;33m\u001b[0m\u001b[1;33m\u001b[0m\u001b[0m\n\u001b[0m\u001b[0;32m    780\u001b[0m \u001b[1;33m\u001b[0m\u001b[0m\n",
      "\u001b[1;32mC:\\Program Files (x86)\\Anaconda3\\lib\\site-packages\\win32com\\client\\dynamic.py\u001b[0m in \u001b[0;36mRunString\u001b[1;34m(self, input)\u001b[0m\n",
      "\u001b[1;31mcom_error\u001b[0m: (-2147352567, 'Exception occurred.', (0, 'IPhreeqcCOM.Object.4', 'ERROR:                    S has not converged. Total: 4.475981e-007\\tCalculated: 4.475981e-007\\tResidual: 9.141773e-015\\n\\nERROR: Numerical method failed on all combinations of convergence parameters, cell/soln/mix 2\\n', None, 0, -2147352567), None)",
      "\nDuring handling of the above exception, another exception occurred:\n",
      "\u001b[1;31mNameError\u001b[0m                                 Traceback (most recent call last)",
      "\u001b[1;32m<ipython-input-3-fb9e070332c3>\u001b[0m in \u001b[0;36m<module>\u001b[1;34m\u001b[0m\n\u001b[0;32m     33\u001b[0m         \u001b[0mscaling_data\u001b[0m \u001b[1;33m=\u001b[0m \u001b[0mross\u001b[0m\u001b[1;33m.\u001b[0m\u001b[0mprocess_selected_output\u001b[0m\u001b[1;33m(\u001b[0m\u001b[1;33m)\u001b[0m\u001b[1;33m\u001b[0m\u001b[1;33m\u001b[0m\u001b[0m\n\u001b[0;32m     34\u001b[0m     \u001b[1;32mexcept\u001b[0m\u001b[1;33m:\u001b[0m\u001b[1;33m\u001b[0m\u001b[1;33m\u001b[0m\u001b[0m\n\u001b[1;32m---> 35\u001b[1;33m         \u001b[0mprint\u001b[0m\u001b[1;33m(\u001b[0m\u001b[1;34m'--> ERROR: The simulation with the {} database failed to converge'\u001b[0m\u001b[1;33m.\u001b[0m\u001b[0mformat\u001b[0m\u001b[1;33m(\u001b[0m\u001b[0mdatabase_selection\u001b[0m\u001b[1;33m)\u001b[0m\u001b[1;33m)\u001b[0m\u001b[1;33m\u001b[0m\u001b[1;33m\u001b[0m\u001b[0m\n\u001b[0m\u001b[0;32m     36\u001b[0m         \u001b[0mscaling_data\u001b[0m \u001b[1;33m=\u001b[0m \u001b[1;32mNone\u001b[0m\u001b[1;33m\u001b[0m\u001b[1;33m\u001b[0m\u001b[0m\n\u001b[0;32m     37\u001b[0m \u001b[1;33m\u001b[0m\u001b[0m\n",
      "\u001b[1;31mNameError\u001b[0m: name 'database_selection' is not defined"
     ]
    }
   ],
   "source": [
    "from glob import glob\n",
    "import re\n",
    "import os\n",
    "\n",
    "# run the ROSS model\n",
    "%matplotlib inline\n",
    "%run ../../../rosspy/core.py\n",
    "ross = ROSSPkg(verbose = False)\n",
    "\n",
    "# initial parameters\n",
    "simulation_title = 'test'\n",
    "water_selection = 'red_sea'\n",
    "simulation = 'scaling'\n",
    "simulation_perspective = 'all_distance'\n",
    "simulation_time = 200\n",
    "\n",
    "# create the input file\n",
    "for database in ross.databases:\n",
    "    print('='*30, f'\\n\\n{database} database \\n', '='*(len(database)+10))\n",
    "\n",
    "    # define the simulation\n",
    "    ross.define_general(database, simulation)\n",
    "    ross.transport(simulation_time, simulation_perspective)\n",
    "    ross.reaction()\n",
    "    ross.solutions(water_selection)\n",
    "    ross.equilibrium_phases()\n",
    "    ross.selected_output()\n",
    "    ross.export()\n",
    "    \n",
    "    # execute and process the input file\n",
    "    try:\n",
    "        raw_data = ross.execute()\n",
    "        scaling_data = ross.process_selected_output()\n",
    "    except:\n",
    "        print('--> ERROR: The simulation with the {} database failed to converge'.format(database))\n",
    "        scaling_data = None\n",
    "        \n",
    "    display(scaling_data)"
   ]
  }
 ],
 "metadata": {
  "kernelspec": {
   "display_name": "Python 3",
   "language": "python",
   "name": "python3"
  },
  "language_info": {
   "codemirror_mode": {
    "name": "ipython",
    "version": 3
   },
   "file_extension": ".py",
   "mimetype": "text/x-python",
   "name": "python",
   "nbconvert_exporter": "python",
   "pygments_lexer": "ipython3",
   "version": "3.7.4"
  }
 },
 "nbformat": 4,
 "nbformat_minor": 2
}
