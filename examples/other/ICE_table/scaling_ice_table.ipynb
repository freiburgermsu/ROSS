{
 "cells": [
  {
   "cell_type": "markdown",
   "metadata": {},
   "source": [
    "# Suggestion from David Parkhurst"
   ]
  },
  {
   "cell_type": "code",
   "execution_count": null,
   "metadata": {},
   "outputs": [],
   "source": [
    "import rosspy\n",
    "\n",
    "ross = rosspy.ROSSPkg()\n",
    "ross.execute()"
   ]
  },
  {
   "cell_type": "markdown",
   "metadata": {},
   "source": [
    "# Original ICE table calculations"
   ]
  },
  {
   "cell_type": "code",
   "execution_count": 3,
   "metadata": {},
   "outputs": [
    {
     "name": "stdout",
     "output_type": "stream",
     "text": [
      "{'Ca': {'change': -0.018590752425208468,\n",
      "        'final_moles': 0.335957721232,\n",
      "        'initial_moles': 0.3545484736572085},\n",
      " 'S': {'change': -0.01859593205794563,\n",
      "       'final_moles': 1.7969614040000002,\n",
      "       'initial_moles': 1.8155573360579458}}\n"
     ]
    }
   ],
   "source": [
    "from scipy.constants import kilo\n",
    "from chemicals import periodic_table\n",
    "from pprint import pprint\n",
    "\n",
    "elemental_masses = {}\n",
    "for element in periodic_table:\n",
    "    elemental_masses[element.symbol] = element.MW\n",
    "    \n",
    "calcium_mass = elemental_masses['Ca']\n",
    "sulphate_mass = elemental_masses['S'] + 4*elemental_masses['O']\n",
    "        \n",
    "# concentrations from this experiment: https://github.com/freiburgermsu/ROSSpy/tree/main/examples/scaling/2021-10-27-ROSSpy-red_sea-transport-pitzer-scaling-all_distance-LinPerm\n",
    "\n",
    "initial_molal = {\n",
    "    'Ca': 774/(calcium_mass*kilo),\n",
    "    'S': 9500/(sulphate_mass*kilo)\n",
    "}\n",
    "\n",
    "initial_density = 1.03868\n",
    "final_density = 1.04279\n",
    "solution_masses = {\n",
    "    'initial':17.67498*initial_density,\n",
    "    'final':15.83706*final_density\n",
    "}\n",
    "\n",
    "final_molal = {\n",
    "    'Ca': 0.021547,\n",
    "    'S': 0.115250\n",
    "}\n",
    "\n",
    "initial_kgw = 17.378154\n",
    "final_kgw = 15.591856\n",
    "solution_moles = {}\n",
    "for element in initial_molal:\n",
    "    solution_moles[element] = {}\n",
    "    solution_moles[element]['initial_moles'] = initial_molar[element] * (solution_masses['initial'])\n",
    "for element in final_molal:\n",
    "    solution_moles[element]['final_moles'] = final_molal[element] * final_kgw\n",
    "    \n",
    "for element in solution_moles:\n",
    "    solution_moles[element]['change'] = solution_moles[element]['final_moles'] - solution_moles[element]['initial_moles'] \n",
    "    \n",
    "pprint(solution_moles)"
   ]
  }
 ],
 "metadata": {
  "kernelspec": {
   "display_name": "Python 3",
   "language": "python",
   "name": "python3"
  },
  "language_info": {
   "codemirror_mode": {
    "name": "ipython",
    "version": 3
   },
   "file_extension": ".py",
   "mimetype": "text/x-python",
   "name": "python",
   "nbconvert_exporter": "python",
   "pygments_lexer": "ipython3",
   "version": "3.7.4"
  }
 },
 "nbformat": 4,
 "nbformat_minor": 2
}
